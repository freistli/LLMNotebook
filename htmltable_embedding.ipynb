{
 "cells": [
  {
   "cell_type": "code",
   "execution_count": 14,
   "metadata": {},
   "outputs": [
    {
     "name": "stderr",
     "output_type": "stream",
     "text": [
      "WARNING:llama_index.llm_predictor.base:Unknown max input size for gpt-3.5-turbo, using defaults.\n",
      "INFO:llama_index.indices.loading:Loading all indices.\n",
      "INFO:llama_index.token_counter.token_counter:> [retrieve] Total LLM token usage: 0 tokens\n",
      "INFO:llama_index.token_counter.token_counter:> [retrieve] Total embedding token usage: 7 tokens\n",
      "INFO:llama_index.token_counter.token_counter:> [get_response] Total LLM token usage: 1910 tokens\n",
      "INFO:llama_index.token_counter.token_counter:> [get_response] Total embedding token usage: 0 tokens\n"
     ]
    }
   ],
   "source": [
    "import logging\n",
    "import sys\n",
    "import openai\n",
    "from dotenv import load_dotenv, find_dotenv\n",
    "from llama_index import (\n",
    "    GPTVectorStoreIndex,\n",
    "    LLMPredictor,\n",
    "    ServiceContext,\n",
    "    SimpleWebPageReader,\n",
    "    TrafilaturaWebReader\n",
    ") \n",
    "from langchain.chat_models import ChatOpenAI\n",
    "from llama_index import StorageContext, load_index_from_storage\n",
    "from llama_index import GPTVectorStoreIndex, SimpleDirectoryReader\n",
    "import os\n",
    "\n",
    "#logging.basicConfig(stream=sys.stdout, level=logging.INFO)\n",
    "#logging.getLogger().addHandler(logging.StreamHandler(stream=sys.stdout))\n",
    "\n",
    "_ = load_dotenv(find_dotenv('.env_x'),override=True)  \n",
    "openai.api_base = \"https://api.openai.com/v1\"\n",
    "openai.api_key = os.environ['OPENAI_API_KEY']\n",
    "openai.api_type = os.environ['OPENAI_API_TYPE']\n",
    "openai.api_version = \"\"\n",
    "index = None\n",
    "\n",
    "llm_predictor = LLMPredictor(llm=ChatOpenAI(temperature=0, model_name=\"gpt-3.5-turbo\"))\n",
    "service_context = ServiceContext.from_defaults(llm_predictor=llm_predictor)\n",
    " \n",
    "try:\n",
    "    # rebuild storage context\n",
    "    storage_context = StorageContext.from_defaults(persist_dir='./webstorage')\n",
    "    # load index\n",
    "    index = load_index_from_storage(storage_context = storage_context, service_context = service_context)\n",
    "     \n",
    "except:\n",
    "    print(\"No index found, creating a new one\")\n",
    "\n",
    "urls = [\"https://support.microsoft.com/en-us/surface/surface-pro-8-update-history-1080bf34-7e87-408c-8619-80571283526e\"]\n",
    "\n",
    "if(index is None):    \n",
    "    #documents = SimpleWebPageReader(html_to_text=True).load_data(urls)  \n",
    "    documents = TrafilaturaWebReader().load_data(urls)\n",
    "    index = GPTVectorStoreIndex.from_documents(documents,service_context=service_context)\n",
    "    index.storage_context.persist(persist_dir='./webstorage')\n",
    "\n",
    "query_engine = index.as_query_engine()\n",
    "result = query_engine.query(\"what is this article talking about?\")\n",
    "\n"
   ]
  },
  {
   "cell_type": "code",
   "execution_count": 20,
   "metadata": {},
   "outputs": [
    {
     "name": "stderr",
     "output_type": "stream",
     "text": [
      "INFO:llama_index.token_counter.token_counter:> [retrieve] Total LLM token usage: 0 tokens\n",
      "INFO:llama_index.token_counter.token_counter:> [retrieve] Total embedding token usage: 37 tokens\n",
      "INFO:llama_index.token_counter.token_counter:> [get_response] Total LLM token usage: 2072 tokens\n",
      "INFO:llama_index.token_counter.token_counter:> [get_response] Total embedding token usage: 0 tokens\n"
     ]
    }
   ],
   "source": [
    "query_engine = index.as_query_engine()\n",
    "result = query_engine.query(\"The 'Windows Update Name' and 'Device Manager' are two columns of a table. What is the 'Windows Update Name' of 'Intel Camera - Control Logic -System devices'\")\n"
   ]
  },
  {
   "cell_type": "code",
   "execution_count": 36,
   "metadata": {},
   "outputs": [
    {
     "name": "stderr",
     "output_type": "stream",
     "text": [
      "INFO:llama_index.token_counter.token_counter:> [retrieve] Total LLM token usage: 0 tokens\n",
      "INFO:llama_index.token_counter.token_counter:> [retrieve] Total embedding token usage: 17 tokens\n",
      "INFO:llama_index.token_counter.token_counter:> [get_response] Total LLM token usage: 2086 tokens\n",
      "INFO:llama_index.token_counter.token_counter:> [get_response] Total embedding token usage: 0 tokens\n"
     ]
    }
   ],
   "source": [
    "result = query_engine.query(\"what Update is available for 'Intel(R) Imaging Signal Processor -System devices'\")"
   ]
  },
  {
   "cell_type": "code",
   "execution_count": 24,
   "metadata": {},
   "outputs": [
    {
     "name": "stderr",
     "output_type": "stream",
     "text": [
      "INFO:llama_index.token_counter.token_counter:> [retrieve] Total LLM token usage: 0 tokens\n",
      "INFO:llama_index.token_counter.token_counter:> [retrieve] Total embedding token usage: 7 tokens\n",
      "INFO:llama_index.token_counter.token_counter:> [get_response] Total LLM token usage: 1910 tokens\n",
      "INFO:llama_index.token_counter.token_counter:> [get_response] Total embedding token usage: 0 tokens\n"
     ]
    }
   ],
   "source": [
    "result = query_engine.query(\"what's this article talking about?\")"
   ]
  },
  {
   "cell_type": "code",
   "execution_count": 38,
   "metadata": {},
   "outputs": [
    {
     "name": "stderr",
     "output_type": "stream",
     "text": [
      "INFO:llama_index.token_counter.token_counter:> [retrieve] Total LLM token usage: 0 tokens\n",
      "INFO:llama_index.token_counter.token_counter:> [retrieve] Total embedding token usage: 30 tokens\n",
      "INFO:llama_index.token_counter.token_counter:> [get_response] Total LLM token usage: 2405 tokens\n",
      "INFO:llama_index.token_counter.token_counter:> [get_response] Total embedding token usage: 0 tokens\n"
     ]
    }
   ],
   "source": [
    "result = query_engine.query(\"Generate an HTML table for the updates based on this content, one column is 'Windows Update Name', another columne is 'Device Manager'\")"
   ]
  },
  {
   "cell_type": "code",
   "execution_count": 39,
   "metadata": {},
   "outputs": [
    {
     "name": "stdout",
     "output_type": "stream",
     "text": [
      "| Windows Update Name | Device Manager |\n",
      "| --- | --- |\n",
      "| Surface - Firmware - 18.102.141.0 | Surface UEFI – Firmware |\n",
      "| Surface - Firmware - 9.5.139.0 | Surface System Aggregator - Firmware |\n",
      "| Surface - Firmware - 15.0.1879.1 | Surface ME - Firmware |\n",
      "| Surface - Firmware - 1.16.139.0 | Surface Pen0C0F Firmware Update - Firmware |\n",
      "| Intel - System - 2120.100.0.1085 | Intel(R) Management Engine Interface - System Devices |\n",
      "| Surface - Human Interface Devices - 3.54.139.0 | Surface Hid Mini Driver - Human Interface Devices |\n",
      "| MBIHV -Firmware - 2.1.1.14 | Quectel MSFT MBIHV Mobile Broadband Firmware Device - Firmware |\n",
      "| Surface - HIDClass - 161.36.24.0 | Surface TCON device -Human Interface Devices |\n",
      "| Surface - Firmware - 66.1.0.17 | Surface SMF - Firmware |\n",
      "| Surface - Firmware - 10.4.0.0 | Surface PD Controller - Firmware |\n",
      "| Surface - Firmware - 15.0.1706.1 | Surface ME - Firmware |\n",
      "| Surface - USB -1.77.137.0 | Surface Type Cover V7 Fingerprint UDE Controller _ USB Controllers |\n",
      "| Surface - Human Interface Devices - 15.15.137.0 | Surface Touch Pen Processor - Human Interface Devices |\n",
      "| Surface - System - 66.44.139.0 | Surface Integration - System devices |\n"
     ]
    }
   ],
   "source": [
    "print(result)"
   ]
  }
 ],
 "metadata": {
  "kernelspec": {
   "display_name": "Python 3",
   "language": "python",
   "name": "python3"
  },
  "language_info": {
   "codemirror_mode": {
    "name": "ipython",
    "version": 3
   },
   "file_extension": ".py",
   "mimetype": "text/x-python",
   "name": "python",
   "nbconvert_exporter": "python",
   "pygments_lexer": "ipython3",
   "version": "3.10.11"
  },
  "orig_nbformat": 4
 },
 "nbformat": 4,
 "nbformat_minor": 2
}
